{
 "cells": [
  {
   "cell_type": "code",
   "execution_count": null,
   "metadata": {},
   "outputs": [],
   "source": [
    "-- create table Customers(\n",
    "-- customer_id serial primary key,\n",
    "-- customer_name varchar,\n",
    "-- city varchar);\n",
    "\n",
    "-- select * from customers;\n",
    "\n",
    "-- insert into Customers (customer_name, city)\n",
    "-- values ('john doe', 'new york'),\n",
    "-- ('jane smith', 'los angeles'),\n",
    "-- ('david johnson', 'chicago');\n",
    "\n",
    "-- create table Orders(\n",
    "-- order_id serial primary key,\n",
    "-- customer_id integer not null,\n",
    "-- order_date date not null,\n",
    "-- total_amount decimal not null);\n",
    "\n",
    "-- select * from orders;\n",
    "\n",
    "-- alter table orders\n",
    "-- add constraint fk\n",
    "-- foreign key (customer_id)\n",
    "-- references customers(customer_id);\n",
    "\n",
    "-- insert into orders (customer_id, order_date, total_amount)\n",
    "-- values (1, '2022-01-10', 100.00),\n",
    "-- (1, '2022-02-15', 150.00),\n",
    "-- (2, '2022-03-20', 200.00),\n",
    "-- (3, '2022-04-25', 50.00);\n",
    "\n",
    "-- select customer_name, count(order_id)\n",
    "-- from customers\n",
    "-- join orders on customers.customer_id = orders.customer_id\n",
    "-- group by customer_name"
   ]
  }
 ],
 "metadata": {
  "language_info": {
   "name": "python"
  }
 },
 "nbformat": 4,
 "nbformat_minor": 2
}
